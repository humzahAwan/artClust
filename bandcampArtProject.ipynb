{
 "cells": [
  {
   "cell_type": "markdown",
   "metadata": {},
   "source": [
    "# Image Similarity Model"
   ]
  },
  {
   "cell_type": "markdown",
   "metadata": {},
   "source": [
    "Bandcamp is an online music distribution platform. Artists and labels upload music to Bandcamp where they have the ability to set prices and add merchandise. Users can download purchases or stream tracks via the mobile app. Labels can offer sale of physical items: vinyl, cassettes, and CDs. The website also allows users to extend support to sellers by choosing to pay more then the sale price.\n",
    "\n",
    "Visual arts usually complement music projects by reinforcing concepts. Even though bandcamp is fundamentally a market for audio, album art are presented and are often seen before music is heard. \n",
    "\n",
    "As a first step on this process I would first like to focus on creating a model for clustering similar artworks."
   ]
  },
  {
   "cell_type": "markdown",
   "metadata": {},
   "source": [
    "## Imports"
   ]
  },
  {
   "cell_type": "code",
   "execution_count": 3,
   "metadata": {},
   "outputs": [],
   "source": [
    "import pandas as pd\n",
    "import numpy as np\n",
    "from IPython.display import Image, HTML\n",
    "from skimage import io\n",
    "from urllib.error import HTTPError\n"
   ]
  },
  {
   "cell_type": "markdown",
   "metadata": {},
   "source": [
    "## Data read and transformation"
   ]
  },
  {
   "cell_type": "markdown",
   "metadata": {},
   "source": [
    "[Click here for raw data.](https://www.kaggle.com/code/mathurinache/bandcamp-dataset-starter/data)"
   ]
  },
  {
   "cell_type": "markdown",
   "metadata": {},
   "source": [
    "Having read the data. New columns were created to show the absolute and percentage amounts over paid by the customers for each project. A sample was created to reduce the time taken to create the notebook. Once a working pipeline is built we can rerun the notebook cells with the complete dataset."
   ]
  },
  {
   "cell_type": "code",
   "execution_count": 4,
   "metadata": {},
   "outputs": [
    {
     "data": {
      "text/html": [
       "<div>\n",
       "<style scoped>\n",
       "    .dataframe tbody tr th:only-of-type {\n",
       "        vertical-align: middle;\n",
       "    }\n",
       "\n",
       "    .dataframe tbody tr th {\n",
       "        vertical-align: top;\n",
       "    }\n",
       "\n",
       "    .dataframe thead th {\n",
       "        text-align: right;\n",
       "    }\n",
       "</style>\n",
       "<table border=\"1\" class=\"dataframe\">\n",
       "  <thead>\n",
       "    <tr style=\"text-align: right;\">\n",
       "      <th></th>\n",
       "      <th>index</th>\n",
       "      <th>art_url</th>\n",
       "      <th>item_type</th>\n",
       "      <th>item_price</th>\n",
       "      <th>amount_paid_over</th>\n",
       "      <th>perc_overpaid</th>\n",
       "    </tr>\n",
       "  </thead>\n",
       "  <tbody>\n",
       "    <tr>\n",
       "      <th>0</th>\n",
       "      <td>708815</td>\n",
       "      <td>https://f4.bcbits.com/img/0021618359_37.jpg</td>\n",
       "      <td>p</td>\n",
       "      <td>10.00</td>\n",
       "      <td>1.00</td>\n",
       "      <td>10.00</td>\n",
       "    </tr>\n",
       "    <tr>\n",
       "      <th>1</th>\n",
       "      <td>823143</td>\n",
       "      <td>https://f4.bcbits.com/img/a1525093636_7.jpg</td>\n",
       "      <td>a</td>\n",
       "      <td>2.00</td>\n",
       "      <td>1.00</td>\n",
       "      <td>50.00</td>\n",
       "    </tr>\n",
       "    <tr>\n",
       "      <th>2</th>\n",
       "      <td>888301</td>\n",
       "      <td>https://f4.bcbits.com/img/a3090561932_7.jpg</td>\n",
       "      <td>a</td>\n",
       "      <td>5.00</td>\n",
       "      <td>15.00</td>\n",
       "      <td>300.00</td>\n",
       "    </tr>\n",
       "    <tr>\n",
       "      <th>3</th>\n",
       "      <td>713100</td>\n",
       "      <td>https://f4.bcbits.com/img/a0094350589_7.jpg</td>\n",
       "      <td>a</td>\n",
       "      <td>0.50</td>\n",
       "      <td>1.50</td>\n",
       "      <td>300.00</td>\n",
       "    </tr>\n",
       "    <tr>\n",
       "      <th>4</th>\n",
       "      <td>929419</td>\n",
       "      <td>https://f4.bcbits.com/img/a2464770741_7.jpg</td>\n",
       "      <td>a</td>\n",
       "      <td>12.00</td>\n",
       "      <td>-3.00</td>\n",
       "      <td>-25.00</td>\n",
       "    </tr>\n",
       "    <tr>\n",
       "      <th>...</th>\n",
       "      <td>...</td>\n",
       "      <td>...</td>\n",
       "      <td>...</td>\n",
       "      <td>...</td>\n",
       "      <td>...</td>\n",
       "      <td>...</td>\n",
       "    </tr>\n",
       "    <tr>\n",
       "      <th>995</th>\n",
       "      <td>650969</td>\n",
       "      <td>https://f4.bcbits.com/img/0020823147_37.jpg</td>\n",
       "      <td>p</td>\n",
       "      <td>24.99</td>\n",
       "      <td>0.01</td>\n",
       "      <td>0.04</td>\n",
       "    </tr>\n",
       "    <tr>\n",
       "      <th>996</th>\n",
       "      <td>999479</td>\n",
       "      <td>https://f4.bcbits.com/img/a3972565663_7.jpg</td>\n",
       "      <td>t</td>\n",
       "      <td>3.00</td>\n",
       "      <td>-0.90</td>\n",
       "      <td>-30.00</td>\n",
       "    </tr>\n",
       "    <tr>\n",
       "      <th>997</th>\n",
       "      <td>40774</td>\n",
       "      <td>https://f4.bcbits.com/img/a1278636793_7.jpg</td>\n",
       "      <td>a</td>\n",
       "      <td>10.00</td>\n",
       "      <td>10.00</td>\n",
       "      <td>100.00</td>\n",
       "    </tr>\n",
       "    <tr>\n",
       "      <th>998</th>\n",
       "      <td>805987</td>\n",
       "      <td>https://f4.bcbits.com/img/a1521335121_7.jpg</td>\n",
       "      <td>a</td>\n",
       "      <td>9.99</td>\n",
       "      <td>0.01</td>\n",
       "      <td>0.10</td>\n",
       "    </tr>\n",
       "    <tr>\n",
       "      <th>999</th>\n",
       "      <td>251070</td>\n",
       "      <td>https://f4.bcbits.com/img/a2955955049_7.jpg</td>\n",
       "      <td>a</td>\n",
       "      <td>8.50</td>\n",
       "      <td>0.50</td>\n",
       "      <td>5.88</td>\n",
       "    </tr>\n",
       "  </tbody>\n",
       "</table>\n",
       "<p>1000 rows × 6 columns</p>\n",
       "</div>"
      ],
      "text/plain": [
       "      index                                      art_url item_type  \\\n",
       "0    708815  https://f4.bcbits.com/img/0021618359_37.jpg         p   \n",
       "1    823143  https://f4.bcbits.com/img/a1525093636_7.jpg         a   \n",
       "2    888301  https://f4.bcbits.com/img/a3090561932_7.jpg         a   \n",
       "3    713100  https://f4.bcbits.com/img/a0094350589_7.jpg         a   \n",
       "4    929419  https://f4.bcbits.com/img/a2464770741_7.jpg         a   \n",
       "..      ...                                          ...       ...   \n",
       "995  650969  https://f4.bcbits.com/img/0020823147_37.jpg         p   \n",
       "996  999479  https://f4.bcbits.com/img/a3972565663_7.jpg         t   \n",
       "997   40774  https://f4.bcbits.com/img/a1278636793_7.jpg         a   \n",
       "998  805987  https://f4.bcbits.com/img/a1521335121_7.jpg         a   \n",
       "999  251070  https://f4.bcbits.com/img/a2955955049_7.jpg         a   \n",
       "\n",
       "     item_price  amount_paid_over  perc_overpaid  \n",
       "0         10.00              1.00          10.00  \n",
       "1          2.00              1.00          50.00  \n",
       "2          5.00             15.00         300.00  \n",
       "3          0.50              1.50         300.00  \n",
       "4         12.00             -3.00         -25.00  \n",
       "..          ...               ...            ...  \n",
       "995       24.99              0.01           0.04  \n",
       "996        3.00             -0.90         -30.00  \n",
       "997       10.00             10.00         100.00  \n",
       "998        9.99              0.01           0.10  \n",
       "999        8.50              0.50           5.88  \n",
       "\n",
       "[1000 rows x 6 columns]"
      ]
     },
     "execution_count": 4,
     "metadata": {},
     "output_type": "execute_result"
    }
   ],
   "source": [
    "df = pd.read_csv(\n",
    "    \"1000000-bandcamp-sales.csv\", sep=\",\", \n",
    "    usecols=['art_url','item_type','item_price','amount_paid']\n",
    "    )\n",
    "\n",
    "df[\"item_price\"] = df[\"item_price\"].round(2)\n",
    "df.drop(df.index[df[\"item_price\"] == 0], inplace=True) #free projects are dropped from the dataframe.\n",
    "\n",
    "df[\"amount_paid_over\"] = df[\"amount_paid\"] - df[\"item_price\"]\n",
    "df.drop(df.index[df[\"amount_paid_over\"] == 0], inplace=True) #dropped all transactions where the customer did not overpay.\n",
    "\n",
    "df = df[df[\"art_url\"].str.contains(\"//s4.bcbits.com/img/blank.gif\")==False] #these URLs caused problems so I thought best to remove them now.\n",
    "\n",
    "df.drop(\"amount_paid\", axis=1, inplace=True)\n",
    "df[\"perc_overpaid\"] = (df[\"amount_paid_over\"]/df[\"item_price\"]) * 100\n",
    "df[\"perc_overpaid\"] = df[\"perc_overpaid\"].round(2)\n",
    "\n",
    "df = df.sample(n=1000)\n",
    "df = df.reset_index()\n",
    "df\n"
   ]
  },
  {
   "cell_type": "code",
   "execution_count": 9,
   "metadata": {},
   "outputs": [
    {
     "ename": "AttributeError",
     "evalue": "'NoneType' object has no attribute 'imshow'",
     "output_type": "error",
     "traceback": [
      "\u001b[1;31m---------------------------------------------------------------------------\u001b[0m",
      "\u001b[1;31mAttributeError\u001b[0m                            Traceback (most recent call last)",
      "\u001b[1;32m~\\AppData\\Local\\Temp/ipykernel_14248/1496100254.py\u001b[0m in \u001b[0;36m<module>\u001b[1;34m\u001b[0m\n\u001b[0;32m      1\u001b[0m \u001b[0mpicture\u001b[0m \u001b[1;33m=\u001b[0m \u001b[0mcv2\u001b[0m\u001b[1;33m.\u001b[0m\u001b[0mimread\u001b[0m\u001b[1;33m(\u001b[0m\u001b[0mdf\u001b[0m\u001b[1;33m[\u001b[0m\u001b[1;34m\"art_url\"\u001b[0m\u001b[1;33m]\u001b[0m\u001b[1;33m[\u001b[0m\u001b[1;36m0\u001b[0m\u001b[1;33m]\u001b[0m\u001b[1;33m)\u001b[0m\u001b[1;33m\u001b[0m\u001b[1;33m\u001b[0m\u001b[0m\n\u001b[1;32m----> 2\u001b[1;33m \u001b[0mpicture\u001b[0m\u001b[1;33m.\u001b[0m\u001b[0mimshow\u001b[0m\u001b[1;33m(\u001b[0m\u001b[1;33m)\u001b[0m\u001b[1;33m\u001b[0m\u001b[1;33m\u001b[0m\u001b[0m\n\u001b[0m",
      "\u001b[1;31mAttributeError\u001b[0m: 'NoneType' object has no attribute 'imshow'"
     ]
    }
   ],
   "source": []
  }
 ],
 "metadata": {
  "interpreter": {
   "hash": "c2ed1c1e3dda2d1d09010f3df351d528d97a393444344645f0fddd23da56b409"
  },
  "kernelspec": {
   "display_name": "Python 3.10.0 64-bit",
   "language": "python",
   "name": "python3"
  },
  "language_info": {
   "codemirror_mode": {
    "name": "ipython",
    "version": 3
   },
   "file_extension": ".py",
   "mimetype": "text/x-python",
   "name": "python",
   "nbconvert_exporter": "python",
   "pygments_lexer": "ipython3",
   "version": "3.10.0"
  },
  "orig_nbformat": 4
 },
 "nbformat": 4,
 "nbformat_minor": 2
}
